{
 "cells": [
  {
   "cell_type": "code",
   "execution_count": 56,
   "metadata": {},
   "outputs": [],
   "source": [
    "import folium\n",
    "from folium import plugins\n",
    "import pandas as pd\n",
    "import matplotlib.pyplot as plt\n",
    "import seaborn as sns\n",
    "filename = 'GlobalTeperature.csv'\n",
    "df = pd.read_csv(filename)\n",
    "\n",
    "#show line chart all period by Country\n",
    "dfBrazil = df.loc[((df['Country'] == 'Brazil'))].sort_values(by=['dt']).groupby(pd.to_datetime(df[\"dt\"]).dt.year).mean()\n",
    "\n",
    "#show line chart with interval and country\n",
    "dfEua = df.loc[((df['Country'] == 'United States'))].sort_values(by=['dt']).groupby(pd.to_datetime(df[\"dt\"]).dt.year).mean()\n",
    "\n",
    "\n",
    "listaBr = []\n",
    "listaEua = []\n",
    "listaDt = []\n",
    "for index, row in dfBrazil.iterrows():\n",
    "    listaBr.append(row['AverageTemperature'])\n",
    "for index, row in dfEua.iterrows():\n",
    "    listaEua.append(row['AverageTemperature'])\n",
    "\n",
    "newDf = pd.DataFrame({\n",
    "       'Brazil': listaBr,\n",
    "       'United States': listaEua\n",
    "       }, index=[1990, 1997, 2003, 2009, 2014])\n",
    "\n",
    "newDf = novo.groupby(pd.to_datetime(df[\"dt\"]).dt.year).mean()\n",
    "newDf.plot()\n",
    "\n",
    " lines = newDf.plot.line()\n"
   ]
  },
  {
   "cell_type": "code",
   "execution_count": null,
   "metadata": {},
   "outputs": [],
   "source": []
  },
  {
   "cell_type": "code",
   "execution_count": null,
   "metadata": {},
   "outputs": [],
   "source": []
  }
 ],
 "metadata": {
  "kernelspec": {
   "display_name": "Python 3",
   "language": "python",
   "name": "python3"
  },
  "language_info": {
   "codemirror_mode": {
    "name": "ipython",
    "version": 3
   },
   "file_extension": ".py",
   "mimetype": "text/x-python",
   "name": "python",
   "nbconvert_exporter": "python",
   "pygments_lexer": "ipython3",
   "version": "3.7.0"
  }
 },
 "nbformat": 4,
 "nbformat_minor": 2
}
